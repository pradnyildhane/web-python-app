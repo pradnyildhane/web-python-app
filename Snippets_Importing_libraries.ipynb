{
  "cells": [
    {
      "cell_type": "markdown",
      "metadata": {
        "id": "view-in-github",
        "colab_type": "text"
      },
      "source": [
        "<a href=\"https://colab.research.google.com/github/pradnyildhane/web-python-app/blob/main/Snippets_Importing_libraries.ipynb\" target=\"_parent\"><img src=\"https://colab.research.google.com/assets/colab-badge.svg\" alt=\"Open In Colab\"/></a>"
      ]
    },
    {
      "cell_type": "markdown",
      "metadata": {
        "id": "kDn_lVxg3Z2G"
      },
      "source": [
        "# Importing a library that is not in Colaboratory\n",
        "\n",
        "To import a library that's not in Colaboratory by default, you can use `!pip install` or `!apt-get install`."
      ]
    },
    {
      "cell_type": "code",
      "execution_count": 11,
      "metadata": {
        "id": "Zq68DSY2rP2W"
      },
      "outputs": [],
      "source": [
        "import numpy as np\n",
        "import pandas as pd\n",
        "import matplotlib as plt\n",
        "plt.style.use('fivethirtyeight')"
      ]
    },
    {
      "cell_type": "code",
      "source": [
        "!pip install nsepython\n",
        "from nsepython import *\n",
        "print(indices)"
      ],
      "metadata": {
        "id": "9F3DlJkn1AQm"
      },
      "execution_count": null,
      "outputs": []
    },
    {
      "cell_type": "code",
      "source": [
        "\n",
        "\n",
        "pd.set_option('display.max_columns', None)  # or 1000\n",
        "pd.set_option('display.max_rows', None)  # or 1000\n",
        "pd.set_option('display.max_colwidth', -1)  # or 199\n",
        "pd.options.mode.chained_assignment = None  # default='warn' https://stackoverflow.com/questions/20625582/how-to-deal-with-settingwithcopywarning-in-pandas\n",
        "\n",
        "positions = nsefetch('https://www.nseindia.com/api/equity-stockIndices?index=SECURITIES%20IN%20F%26O')\n",
        "df = pd.DataFrame(positions['data'])\n",
        "print(df)\n",
        "\n"
      ],
      "metadata": {
        "id": "q4oLKwWL3Yj8"
      },
      "execution_count": null,
      "outputs": []
    },
    {
      "cell_type": "code",
      "source": [
        "from nsepython import *\n",
        "\n",
        "def nse_custom_function_secfno(symbol,attribute=\"lastPrice\"):\n",
        "    positions = nsefetch('https://www.nseindia.com/api/equity-stockIndices?index=SECURITIES%20IN%20F%26O')\n",
        "    endp = len(positions['data'])\n",
        "    for x in range(0, endp):\n",
        "        if(positions['data'][x]['symbol']==symbol.upper()):\n",
        "            return positions['data'][x][attribute]\n",
        "\n",
        "print(nse_custom_function_secfno(\"Reliance\"))\n",
        "print(nse_custom_function_secfno(\"Reliance\",\"pChange\"))"
      ],
      "metadata": {
        "id": "DkWaOmg-3P_u",
        "outputId": "fdc12c0d-91c0-439b-a9ee-b9aee0c3f855",
        "colab": {
          "base_uri": "https://localhost:8080/"
        }
      },
      "execution_count": 12,
      "outputs": [
        {
          "output_type": "stream",
          "name": "stdout",
          "text": [
            "2594.2\n",
            "1.53\n"
          ]
        }
      ]
    }
  ],
  "metadata": {
    "colab": {
      "collapsed_sections": [],
      "name": "Snippets: Importing libraries",
      "provenance": [],
      "include_colab_link": true
    },
    "kernelspec": {
      "display_name": "Python 3",
      "name": "python3"
    }
  },
  "nbformat": 4,
  "nbformat_minor": 0
}